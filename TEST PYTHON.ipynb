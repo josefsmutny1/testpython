{
 "cells": [
  {
   "cell_type": "code",
   "execution_count": 25,
   "metadata": {},
   "outputs": [
    {
     "name": "stdout",
     "output_type": "stream",
     "text": [
      "[               Company  EPIC FTSE Industry Classification Benchmark sector[12]\n",
      "0                   3i   III                                Financial Services\n",
      "1        Admiral Group   ADM                                 Nonlife Insurance\n",
      "2   Anglo American plc   AAL                                            Mining\n",
      "3          Antofagasta  ANTO                                            Mining\n",
      "4        Ashtead Group   AHT                                  Support Services\n",
      "..                 ...   ...                                               ...\n",
      "95            Unilever  ULVR                                    Personal Goods\n",
      "96    United Utilities   UU.                      Gas, Water & Multi-utilities\n",
      "97      Vodafone Group   VOD                         Mobile Telecommunications\n",
      "98           Whitbread   WTB                                Retail hospitality\n",
      "99             WPP plc   WPP                                             Media\n",
      "\n",
      "[100 rows x 3 columns],   vteFTSE 100 companies of the United Kingdom → FTSE 250  \\\n",
      "0  3i Admiral Group Anglo American Antofagasta As...       \n",
      "\n",
      "  vteFTSE 100 companies of the United Kingdom → FTSE 250.1  \n",
      "0  3i Admiral Group Anglo American Antofagasta As...        ]\n"
     ]
    }
   ],
   "source": [
    "import pandas as pd\n",
    "URL = \"https://en.wikipedia.org/wiki/FTSE_100_Index\"\n",
    "tables = pd.read_html(URL,match=\"Fresnill\")\n"
   ]
  },
  {
   "cell_type": "code",
   "execution_count": 50,
   "metadata": {},
   "outputs": [
    {
     "name": "stdout",
     "output_type": "stream",
     "text": [
      "{'data': {'personal_code': '003697104a', 'dataset_ids': [['3bd4cabfaa', 'ef0bccd7cc', 'f894683be9', '403c8fd1da', '8a310226b3']]}, 'message': 'Hello, Smutný Josef! Good luck with the midterm. GET your data set from /data/file_id endpoint; use the codes you received in the data response as the file_id parameter! Print the personal code in your notebook.'}\n",
      "{'message': 'Missing Authentication Token'}\n"
     ]
    }
   ],
   "source": [
    "import json\n",
    "import requests\n",
    "\n",
    "url=\"https://ies-midterm.soulution.rocks/\"\n",
    "login={\"cuni\":\"21987160\"}\n",
    "x = requests.post(url+\"login/\",json.dumps(login))\n",
    "xson=x.json()\n",
    "print(xson)\n",
    "code=xson[\"data\"][\"personal_code\"]\n",
    "ids=xson[\"data\"][\"dataset_ids\"]\n",
    "y=requests.get(url+\"/data/code\")\n",
    "yson=y.json()\n",
    "print(yson)"
   ]
  },
  {
   "cell_type": "code",
   "execution_count": null,
   "metadata": {},
   "outputs": [],
   "source": []
  }
 ],
 "metadata": {
  "kernelspec": {
   "display_name": "Python 3",
   "language": "python",
   "name": "python3"
  },
  "language_info": {
   "codemirror_mode": {
    "name": "ipython",
    "version": 3
   },
   "file_extension": ".py",
   "mimetype": "text/x-python",
   "name": "python",
   "nbconvert_exporter": "python",
   "pygments_lexer": "ipython3",
   "version": "3.8.3"
  }
 },
 "nbformat": 4,
 "nbformat_minor": 4
}
